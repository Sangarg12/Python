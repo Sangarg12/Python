{
 "cells": [
  {
   "cell_type": "markdown",
   "metadata": {},
   "source": [
    "# *args and *kwargs \n",
    "\n",
    "*args returns tupples\n",
    "**kwargs retruns dictonaries "
   ]
  },
  {
   "cell_type": "code",
   "execution_count": 3,
   "metadata": {},
   "outputs": [],
   "source": [
    "def myfunc(*args):\n",
    "    print(args)"
   ]
  },
  {
   "cell_type": "code",
   "execution_count": 4,
   "metadata": {},
   "outputs": [
    {
     "name": "stdout",
     "output_type": "stream",
     "text": [
      "(10, 20, 30)\n"
     ]
    }
   ],
   "source": [
    "myfunc(10,20,30)"
   ]
  },
  {
   "cell_type": "code",
   "execution_count": 6,
   "metadata": {},
   "outputs": [
    {
     "name": "stdout",
     "output_type": "stream",
     "text": [
      "('fruit', 'a', 10)\n"
     ]
    }
   ],
   "source": [
    "myfunc('fruit','a',10)"
   ]
  },
  {
   "cell_type": "markdown",
   "metadata": {},
   "source": [
    "As we can see that *args return output in tupples"
   ]
  },
  {
   "cell_type": "code",
   "execution_count": 7,
   "metadata": {},
   "outputs": [],
   "source": [
    "def myfunc1(**kwargs):\n",
    "    print(kwargs)"
   ]
  },
  {
   "cell_type": "code",
   "execution_count": 8,
   "metadata": {},
   "outputs": [
    {
     "ename": "TypeError",
     "evalue": "myfunc1() takes 0 positional arguments but 3 were given",
     "output_type": "error",
     "traceback": [
      "\u001b[1;31m---------------------------------------------------------------------------\u001b[0m",
      "\u001b[1;31mTypeError\u001b[0m                                 Traceback (most recent call last)",
      "\u001b[1;32m<ipython-input-8-d8e519e22fef>\u001b[0m in \u001b[0;36m<module>\u001b[1;34m\u001b[0m\n\u001b[1;32m----> 1\u001b[1;33m \u001b[0mmyfunc1\u001b[0m\u001b[1;33m(\u001b[0m\u001b[1;36m10\u001b[0m\u001b[1;33m,\u001b[0m\u001b[1;36m20\u001b[0m\u001b[1;33m,\u001b[0m\u001b[1;36m30\u001b[0m\u001b[1;33m)\u001b[0m\u001b[1;33m\u001b[0m\u001b[1;33m\u001b[0m\u001b[0m\n\u001b[0m",
      "\u001b[1;31mTypeError\u001b[0m: myfunc1() takes 0 positional arguments but 3 were given"
     ]
    }
   ],
   "source": [
    "myfunc1(10,20,30)"
   ]
  },
  {
   "cell_type": "code",
   "execution_count": 10,
   "metadata": {},
   "outputs": [
    {
     "name": "stdout",
     "output_type": "stream",
     "text": [
      "{'fruit': 'apple', 'animal': 'monkey', 'human': 'man'}\n"
     ]
    }
   ],
   "source": [
    "#it returns error because **kwargs accept argument in dictonaries form , I understand these are little bit tedious to grab.\n",
    "\n",
    "myfunc1(fruit='apple',animal= 'monkey',human='man')"
   ]
  },
  {
   "cell_type": "code",
   "execution_count": 11,
   "metadata": {},
   "outputs": [],
   "source": [
    "#output is dictonarie"
   ]
  },
  {
   "cell_type": "code",
   "execution_count": 12,
   "metadata": {},
   "outputs": [],
   "source": [
    "def func(*args):\n",
    "    for item in args:\n",
    "        print(item)"
   ]
  },
  {
   "cell_type": "code",
   "execution_count": 13,
   "metadata": {},
   "outputs": [
    {
     "name": "stdout",
     "output_type": "stream",
     "text": [
      "fruit\n",
      "10\n",
      "x\n"
     ]
    }
   ],
   "source": [
    "func('fruit',10,'x')"
   ]
  },
  {
   "cell_type": "code",
   "execution_count": 14,
   "metadata": {},
   "outputs": [],
   "source": [
    "def func1(**kwargs):\n",
    "    for item in kwargs:\n",
    "        print(item)"
   ]
  },
  {
   "cell_type": "code",
   "execution_count": 15,
   "metadata": {},
   "outputs": [
    {
     "name": "stdout",
     "output_type": "stream",
     "text": [
      "fruit\n",
      "animal\n",
      "human\n"
     ]
    }
   ],
   "source": [
    "func1(fruit='apple',animal= 'monkey',human='man')"
   ]
  },
  {
   "cell_type": "code",
   "execution_count": 43,
   "metadata": {},
   "outputs": [],
   "source": [
    "def both(*args ,**kwargs):\n",
    "    print(args)\n",
    "    print(kwargs)\n",
    "    for item in kwargs:\n",
    "        for letter in args:\n",
    "            print(\"I'd would like to have {} {} \".format(args[1],kwargs['fruit']))\n",
    "            break\n",
    "        "
   ]
  },
  {
   "cell_type": "code",
   "execution_count": 44,
   "metadata": {},
   "outputs": [
    {
     "name": "stdout",
     "output_type": "stream",
     "text": [
      "(10, 20, 30)\n",
      "{'fruit': 'egg', 'animal': 'monkey'}\n",
      "I'd would like to have 20 egg \n",
      "I'd would like to have 20 egg \n"
     ]
    }
   ],
   "source": [
    "both(10,20,30,fruit='egg',animal='monkey')"
   ]
  },
  {
   "cell_type": "code",
   "execution_count": 45,
   "metadata": {},
   "outputs": [
    {
     "name": "stdout",
     "output_type": "stream",
     "text": [
      "(10, 20, 30)\n",
      "{'fruit': 'egg', 'animal': 'monkey', 'human': 'man'}\n",
      "I'd would like to have 20 egg \n",
      "I'd would like to have 20 egg \n",
      "I'd would like to have 20 egg \n"
     ]
    }
   ],
   "source": [
    "#it runs two item because in kwargs there is two arguments\n",
    "\n",
    "both(10,20,30,fruit='egg',animal='monkey',human='man')"
   ]
  },
  {
   "cell_type": "code",
   "execution_count": 46,
   "metadata": {},
   "outputs": [],
   "source": [
    "#if we want to print only one time then we need to learn to use of break and continue in loops: lets see\n",
    "\n",
    "def both(*args ,**kwargs):\n",
    "    \"\"\" This funtion is to describe *args and **kwargs \"\"\"\n",
    "    print(args)\n",
    "    print(kwargs)\n",
    "    for item in kwargs:\n",
    "        for letter in args:\n",
    "            print(\"I'd would like to have {} {} \".format(args[1],kwargs['fruit']))\n",
    "            break # for inner loop\n",
    "        break #for external loop\n"
   ]
  },
  {
   "cell_type": "code",
   "execution_count": 48,
   "metadata": {},
   "outputs": [
    {
     "name": "stdout",
     "output_type": "stream",
     "text": [
      "(10, 20, 30)\n",
      "{'fruit': 'egg', 'animal': 'monkey'}\n",
      "I'd would like to have 20 egg \n"
     ]
    }
   ],
   "source": [
    "both(10,20,30,fruit='egg',animal='monkey')"
   ]
  },
  {
   "cell_type": "code",
   "execution_count": 49,
   "metadata": {},
   "outputs": [
    {
     "name": "stdout",
     "output_type": "stream",
     "text": [
      "(10, 20, 30)\n",
      "{'fruit': 'egg', 'animal': 'monkey'}\n",
      "I'd would like to have 20 egg \n"
     ]
    }
   ],
   "source": [
    "both(10,20,30,fruit='egg',animal='monkey')"
   ]
  },
  {
   "cell_type": "code",
   "execution_count": 50,
   "metadata": {},
   "outputs": [
    {
     "name": "stdout",
     "output_type": "stream",
     "text": [
      "(10, 20, 30)\n",
      "{'fruit': 'egg', 'animal': 'monkey', 'human': 'man'}\n",
      "I'd would like to have 20 egg \n"
     ]
    }
   ],
   "source": [
    "both(10,20,30,fruit='egg',animal='monkey',human='man')"
   ]
  },
  {
   "cell_type": "code",
   "execution_count": 51,
   "metadata": {},
   "outputs": [],
   "source": [
    "#have you noted i used \"\"\" \"\"\" function to describe the function its a good practise to describe the function\n",
    "\n",
    "#if you hit shift+tap after writing function you will able to see the description which we described for it."
   ]
  },
  {
   "cell_type": "code",
   "execution_count": null,
   "metadata": {},
   "outputs": [],
   "source": []
  }
 ],
 "metadata": {
  "kernelspec": {
   "display_name": "Python 3",
   "language": "python",
   "name": "python3"
  },
  "language_info": {
   "codemirror_mode": {
    "name": "ipython",
    "version": 3
   },
   "file_extension": ".py",
   "mimetype": "text/x-python",
   "name": "python",
   "nbconvert_exporter": "python",
   "pygments_lexer": "ipython3",
   "version": "3.7.4"
  }
 },
 "nbformat": 4,
 "nbformat_minor": 2
}
