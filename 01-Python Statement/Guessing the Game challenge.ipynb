{
 "cells": [
  {
   "cell_type": "markdown",
   "metadata": {},
   "source": [
    "Guessing Game Challenge\n",
    "\n",
    "Let's use while loops to create a guessing game.\n",
    "\n",
    "The Challenge:\n",
    "\n",
    "Write a program that picks a random integer from 1 to 100, and has players guess the number. The rules are:\n",
    "\n",
    "    If a player's guess is less than 1 or greater than 100, say \"OUT OF BOUNDS\"\n",
    "    On a player's first turn, if their guess is\n",
    "        within 10 of the number, return \"WARM!\"\n",
    "        further than 10 away from the number, return \"COLD!\"\n",
    "    On all subsequent turns, if a guess is\n",
    "        closer to the number than the previous guess return \"WARMER!\"\n",
    "        farther from the number than the previous guess, return \"COLDER!\"\n",
    "    When the player's guess equals the number, tell them they've guessed correctly and how many guesses it took!\n",
    "\n",
    "You can try this from scratch, or follow the steps outlined below. A separate Solution notebook has been provided. Good luck!\n",
    "First, pick a random integer from 1 to 100 using the random module and assign it to a variable\n",
    "\n",
    "Note: random.randint(a,b) returns a random integer in range [a, b], including both end points.\n"
   ]
  },
  {
   "cell_type": "code",
   "execution_count": 1,
   "metadata": {},
   "outputs": [],
   "source": [
    "from random import randint"
   ]
  },
  {
   "cell_type": "code",
   "execution_count": 3,
   "metadata": {},
   "outputs": [],
   "source": [
    "#Create a list to store guesses\n",
    "\n",
    "#Hint: zero is a good placeholder value for indexing as per our game logic. It's useful because it evaluates to \"False\"\n",
    "\n",
    "guesses = [0]"
   ]
  },
  {
   "cell_type": "code",
   "execution_count": 4,
   "metadata": {},
   "outputs": [
    {
     "name": "stdout",
     "output_type": "stream",
     "text": [
      "please enter your input: 10\n",
      "Lets Play!\n",
      "I'm thinking of number between 1 and input.\n",
      "   What is you guess?:  2\n",
      "WARM\n",
      "I'm thinking of number between 1 and input.\n",
      "   What is you guess?:  3\n",
      "WARMER\n",
      "I'm thinking of number between 1 and input.\n",
      "   What is you guess?:  5\n",
      "COLDER\n",
      "I'm thinking of number between 1 and input.\n",
      "   What is you guess?:  4\n",
      "Congratulation , you guessed it in only 4 guesses!\n"
     ]
    }
   ],
   "source": [
    "flag= True\n",
    "\n",
    "while flag:\n",
    "    \n",
    "    #getting input here from user\n",
    "    number = input(\"please enter your input: \")\n",
    "    \n",
    "    #checking condition\n",
    "    if number.isdigit():\n",
    "        print('Lets Play!')\n",
    "        number = int(number)  # we have describe the number as int type because randint function is for random interger only\n",
    "        flag = False\n",
    "    \n",
    "    #telling the user is input is not valid please try again\n",
    "    else:\n",
    "        print(\"Please enter valid input\")\n",
    " \n",
    "num = randint(1,number)\n",
    "\n",
    "while True:\n",
    "    \n",
    "    #for taking input for guess\n",
    "    player_guess = int(input(\"I'm thinking of number between 1 and input.\\n   What is you guess?:  \"))\n",
    "    \n",
    "    #Here checking player guess the number withing a limit or not\n",
    "    \n",
    "    if player_guess < 1 or player_guess > number:\n",
    "        print(\"OUT OF BOUNDS\")\n",
    "        continue\n",
    "        \n",
    "    #Here we are checking that guess is equal to our random number or not\n",
    "        \n",
    "    if player_guess == num :\n",
    "        print(f\"Congratulation , you guessed it in only {len(guesses)} guesses!\")\n",
    "        \n",
    "        break\n",
    "        \n",
    "    #appending player guess into list\n",
    "    \n",
    "    guesses.append(player_guess)\n",
    "    \n",
    "    #checking condition to give more hints to player so that player can reach to random number in less guess count \n",
    "    \n",
    "    if guesses[-2]:\n",
    "        if abs(num-player_guess)< abs(num-guesses[-2]):\n",
    "            print('WARMER')\n",
    "        else:\n",
    "            print('COLDER')\n",
    "            \n",
    "    else:\n",
    "        if(num-player_guess)<= 10:\n",
    "            print(\"WARM\")\n",
    "            \n",
    "        else:\n",
    "            print(\"COLD\")\n",
    "    \n",
    "            "
   ]
  },
  {
   "cell_type": "markdown",
   "metadata": {},
   "source": [
    "you can try this with different different inputs to play or test this game."
   ]
  },
  {
   "cell_type": "code",
   "execution_count": 5,
   "metadata": {},
   "outputs": [
    {
     "data": {
      "text/plain": [
       "[0, 2, 3, 5]"
      ]
     },
     "execution_count": 5,
     "metadata": {},
     "output_type": "execute_result"
    }
   ],
   "source": [
    "guesses"
   ]
  },
  {
   "cell_type": "code",
   "execution_count": 6,
   "metadata": {},
   "outputs": [
    {
     "data": {
      "text/plain": [
       "4"
      ]
     },
     "execution_count": 6,
     "metadata": {},
     "output_type": "execute_result"
    }
   ],
   "source": [
    "num"
   ]
  },
  {
   "cell_type": "code",
   "execution_count": null,
   "metadata": {},
   "outputs": [],
   "source": []
  }
 ],
 "metadata": {
  "kernelspec": {
   "display_name": "Python 3",
   "language": "python",
   "name": "python3"
  },
  "language_info": {
   "codemirror_mode": {
    "name": "ipython",
    "version": 3
   },
   "file_extension": ".py",
   "mimetype": "text/x-python",
   "name": "python",
   "nbconvert_exporter": "python",
   "pygments_lexer": "ipython3",
   "version": "3.7.4"
  }
 },
 "nbformat": 4,
 "nbformat_minor": 2
}
