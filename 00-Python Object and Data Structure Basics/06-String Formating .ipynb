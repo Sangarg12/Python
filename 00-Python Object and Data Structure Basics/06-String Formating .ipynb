{
 "cells": [
  {
   "cell_type": "markdown",
   "metadata": {},
   "source": [
    "String Formatting\n",
    "\n",
    "String formatting lets you inject items into a string rather than trying to chain items together using commas or string concatenation. As a quick comparison, consider:"
   ]
  },
  {
   "cell_type": "code",
   "execution_count": 1,
   "metadata": {},
   "outputs": [
    {
     "data": {
      "text/plain": [
       "'Last night,player scored points'"
      ]
     },
     "execution_count": 1,
     "metadata": {},
     "output_type": "execute_result"
    }
   ],
   "source": [
    "'Last night,' + 'player' + ' scored '+ 'points' # concatenation "
   ]
  },
  {
   "cell_type": "markdown",
   "metadata": {},
   "source": [
    "There are three ways to perform string formatting.\n",
    "\n",
    "    The oldest method involves placeholders using the modulo % character.\n",
    "    An improved technique uses the .format() string method.\n",
    "    The newest method, introduced with Python 3.6, uses formatted string literals, called f-strings.\n",
    "\n",
    "Since you will likely encounter all three versions in someone else's code, we describe each of them here."
   ]
  },
  {
   "cell_type": "markdown",
   "metadata": {},
   "source": [
    "\n",
    "Formatting with placeholders\n",
    "\n",
    "You can use %s to inject strings into your print statements. The modulo % is referred to as a \"string formatting operator\".\n"
   ]
  },
  {
   "cell_type": "code",
   "execution_count": 2,
   "metadata": {},
   "outputs": [
    {
     "name": "stdout",
     "output_type": "stream",
     "text": [
      "I'm going to inject something here.\n"
     ]
    }
   ],
   "source": [
    "print(\"I'm going to inject %s here.\" %'something')"
   ]
  },
  {
   "cell_type": "code",
   "execution_count": 3,
   "metadata": {},
   "outputs": [
    {
     "name": "stdout",
     "output_type": "stream",
     "text": [
      "I'm going to inject some here, and more here.\n"
     ]
    }
   ],
   "source": [
    "print(\"I'm going to inject %s here, and %s here.\" %('some','more'))"
   ]
  },
  {
   "cell_type": "code",
   "execution_count": 4,
   "metadata": {
    "scrolled": true
   },
   "outputs": [
    {
     "name": "stdout",
     "output_type": "stream",
     "text": [
      "I'm going to inject some here , and more here.\n"
     ]
    }
   ],
   "source": [
    "#You can also pass variable names:\n",
    "x,y = ('some','more')\n",
    "\n",
    "print(\"I'm going to inject %s here , and %s here.\" %(x,y))"
   ]
  },
  {
   "cell_type": "markdown",
   "metadata": {},
   "source": [
    "\n",
    "Format conversion methods.\n",
    "\n",
    "It should be noted that two methods %s and %r convert any python object to a string using two separate methods: str() and repr().%r and repr() deliver the string representation of the object, including quotation marks and any escape characters.\n"
   ]
  },
  {
   "cell_type": "code",
   "execution_count": 6,
   "metadata": {},
   "outputs": [
    {
     "name": "stdout",
     "output_type": "stream",
     "text": [
      "I'm going to inject something here.\n",
      "I'm going to inject 'something' here.\n"
     ]
    }
   ],
   "source": [
    "print(\"I'm going to inject %s here.\" %'something')\n",
    "print(\"I'm going to inject %r here.\" %'something')"
   ]
  },
  {
   "cell_type": "markdown",
   "metadata": {},
   "source": [
    "As another example, \\t inserts a tab into a string."
   ]
  },
  {
   "cell_type": "code",
   "execution_count": 7,
   "metadata": {},
   "outputs": [
    {
     "name": "stdout",
     "output_type": "stream",
     "text": [
      "I caught fish this\tbig\n",
      "I caught fist 'this \\tbig'\n"
     ]
    }
   ],
   "source": [
    "print(\"I caught fish %s\" %'this\\tbig')\n",
    "print(\"I caught fist %r\" %'this \\tbig')"
   ]
  },
  {
   "cell_type": "markdown",
   "metadata": {},
   "source": [
    "I hope you able to get that \\t won't work in %r"
   ]
  },
  {
   "cell_type": "markdown",
   "metadata": {},
   "source": [
    "The %s operator converts whatever it sees into a string, including integers and floats. The %d operator converts numbers to integers first, without rounding. Note the difference below:\n"
   ]
  },
  {
   "cell_type": "code",
   "execution_count": 8,
   "metadata": {},
   "outputs": [
    {
     "name": "stdout",
     "output_type": "stream",
     "text": [
      "I gave 10.5 to my younger brother.\n",
      "I gave 10 to my younder brother.\n"
     ]
    }
   ],
   "source": [
    "print(\"I gave %s to my younger brother.\" %10.50 )\n",
    "print(\"I gave %d to my younder brother.\" %10.50 )"
   ]
  },
  {
   "cell_type": "code",
   "execution_count": 9,
   "metadata": {},
   "outputs": [
    {
     "name": "stdout",
     "output_type": "stream",
     "text": [
      "I gave 10.500000 to my younder brother.\n"
     ]
    }
   ],
   "source": [
    "print(\"I gave %f to my younder brother.\" %10.50 )"
   ]
  },
  {
   "cell_type": "markdown",
   "metadata": {},
   "source": [
    "Padding and Precision of Floating Point Numbers\n",
    "\n",
    "Floating point numbers use the format e.g %5.2f. Here, 5 would be the minimum number of characters the string should contain; these may be padded with whitespace if the entire number does not have this many digits. Next to this, .2f stands for how many numbers to show past the decimal point. Let's see some examples:\n"
   ]
  },
  {
   "cell_type": "code",
   "execution_count": 10,
   "metadata": {},
   "outputs": [
    {
     "name": "stdout",
     "output_type": "stream",
     "text": [
      "I gave 10.53 to my younger brother.\n"
     ]
    }
   ],
   "source": [
    "print(\"I gave %5.2f to my younger brother.\" %10.525)"
   ]
  },
  {
   "cell_type": "code",
   "execution_count": 11,
   "metadata": {},
   "outputs": [
    {
     "name": "stdout",
     "output_type": "stream",
     "text": [
      "I gave     10.53 to my younger brother.\n"
     ]
    }
   ],
   "source": [
    "print(\"I gave%10.2f to my younger brother.\" %10.525)"
   ]
  },
  {
   "cell_type": "markdown",
   "metadata": {},
   "source": [
    "I hope you able to get the difference between padding and precision "
   ]
  },
  {
   "cell_type": "code",
   "execution_count": 15,
   "metadata": {},
   "outputs": [
    {
     "name": "stdout",
     "output_type": "stream",
     "text": [
      "I gave 11 to my youner brother\n"
     ]
    }
   ],
   "source": [
    "print(\"I gave %1.0f to my youner brother\" %10.525)"
   ]
  },
  {
   "cell_type": "code",
   "execution_count": 17,
   "metadata": {},
   "outputs": [
    {
     "name": "stdout",
     "output_type": "stream",
     "text": [
      "I gave 10 to my youner brother\n"
     ]
    }
   ],
   "source": [
    "print(\"I gave %1.0f to my youner brother\" %10.144)   #rounding"
   ]
  },
  {
   "cell_type": "markdown",
   "metadata": {},
   "source": [
    "Formatting with the .format() method\n",
    "\n",
    "For example:"
   ]
  },
  {
   "cell_type": "code",
   "execution_count": 18,
   "metadata": {},
   "outputs": [
    {
     "name": "stdout",
     "output_type": "stream",
     "text": [
      "I gave 10.525 to my younger brother.\n"
     ]
    }
   ],
   "source": [
    "print(\"I gave {} to my younger brother.\".format(10.525))"
   ]
  },
  {
   "cell_type": "code",
   "execution_count": 20,
   "metadata": {},
   "outputs": [
    {
     "name": "stdout",
     "output_type": "stream",
     "text": [
      "I'm going back home\n"
     ]
    }
   ],
   "source": [
    "#The .format() method has several advantages over the %s placeholder method:\n",
    "\n",
    "#e.g\n",
    "\n",
    "\n",
    "#1. Inserted objects can be called by index position:\n",
    "\n",
    "print(\"I'm {} {} {}\".format('going','back','home'))"
   ]
  },
  {
   "cell_type": "code",
   "execution_count": 21,
   "metadata": {},
   "outputs": [
    {
     "name": "stdout",
     "output_type": "stream",
     "text": [
      "I'm going back home\n"
     ]
    }
   ],
   "source": [
    "#Above indexing was automatic in series lets do it manually \n",
    "\n",
    "print(\"I'm {0} {1} {2}\".format('going','back','home'))"
   ]
  },
  {
   "cell_type": "code",
   "execution_count": 22,
   "metadata": {},
   "outputs": [
    {
     "name": "stdout",
     "output_type": "stream",
     "text": [
      "I'm back home going\n"
     ]
    }
   ],
   "source": [
    "#lets suffle the indexing \n",
    "\n",
    "print(\"I'm {1} {2} {0}\".format('going','back','home'))"
   ]
  },
  {
   "cell_type": "code",
   "execution_count": 23,
   "metadata": {},
   "outputs": [
    {
     "name": "stdout",
     "output_type": "stream",
     "text": [
      "I'm back going home\n"
     ]
    }
   ],
   "source": [
    "#2. Inserted objects can be assigned keywords:\n",
    "\n",
    "print(\"I'm {b} {a} {c}\".format(a='going',b='back',c='home'))"
   ]
  },
  {
   "cell_type": "code",
   "execution_count": 24,
   "metadata": {},
   "outputs": [
    {
     "name": "stdout",
     "output_type": "stream",
     "text": [
      "I'm back going back\n"
     ]
    }
   ],
   "source": [
    "#3. Inserted objects can be reused\n",
    "\n",
    "print(\"I'm {b} {a} {b}\".format(a='going',b='back',c='home'))"
   ]
  },
  {
   "cell_type": "markdown",
   "metadata": {},
   "source": [
    "#Alignment, padding and precision with .format()\n",
    "\n",
    "Within the curly braces you can assign field lengths, left/right alignments, rounding parameters and more\n"
   ]
  },
  {
   "cell_type": "code",
   "execution_count": 9,
   "metadata": {},
   "outputs": [
    {
     "name": "stdout",
     "output_type": "stream",
     "text": [
      "something  , other    ,more      \n",
      "something1 , other1   ,more1     \n",
      "something2 , other2   ,more2     \n"
     ]
    }
   ],
   "source": [
    "print('{0:10} , {1:9},{2:10}'.format('something','other','more'))\n",
    "print('{0:8} , {1:9},{2:10}'.format('something1','other1','more1'))\n",
    "print('{0:8} , {1:9},{2:10}'.format('something2','other2','more2'))"
   ]
  },
  {
   "cell_type": "code",
   "execution_count": 10,
   "metadata": {},
   "outputs": [],
   "source": [
    "#{indexing:(alignment[optional])padding}"
   ]
  },
  {
   "cell_type": "code",
   "execution_count": 11,
   "metadata": {},
   "outputs": [
    {
     "name": "stdout",
     "output_type": "stream",
     "text": [
      "other      , something,more      \n",
      "other1   , something1,more1     \n",
      "other2   , something2,more2     \n"
     ]
    }
   ],
   "source": [
    "print('{1:10} , {0:9},{2:10}'.format('something','other','more'))\n",
    "print('{1:8} , {0:9},{2:10}'.format('something1','other1','more1'))\n",
    "print('{1:8} , {0:9},{2:10}'.format('something2','other2','more2'))"
   ]
  },
  {
   "cell_type": "code",
   "execution_count": 12,
   "metadata": {},
   "outputs": [
    {
     "name": "stdout",
     "output_type": "stream",
     "text": [
      "something  ,   other  ,      more\n",
      "something1 ,  other1  ,     more1\n",
      "something2 ,  other2  ,     more2\n"
     ]
    }
   ],
   "source": [
    "#By default, .format() aligns text to the left, numbers to the right. \n",
    "#You can pass an optional <,^, or > to set a left, center or right alignment:\n",
    "\n",
    "print('{0:<10} , {1:^9},{2:>10}'.format('something','other','more'))\n",
    "print('{0:<8} , {1:^9},{2:>10}'.format('something1','other1','more1'))\n",
    "print('{0:<8} , {1:^9},{2:>10}'.format('something2','other2','more2'))"
   ]
  },
  {
   "cell_type": "code",
   "execution_count": 13,
   "metadata": {},
   "outputs": [
    {
     "name": "stdout",
     "output_type": "stream",
     "text": [
      "Left==== | -Center- | ...Right\n",
      "11====== | ---22--- | ......33\n"
     ]
    }
   ],
   "source": [
    "#You can precede the aligment operator with a padding character:\n",
    "\n",
    "\n",
    "print('{0:=<8} | {1:-^8} | {2:.>8}'.format('Left','Center','Right'))\n",
    "print('{0:=<8} | {1:-^8} | {2:.>8}'.format(11,22,33))\n",
    "\n"
   ]
  },
  {
   "cell_type": "code",
   "execution_count": 16,
   "metadata": {},
   "outputs": [
    {
     "name": "stdout",
     "output_type": "stream",
     "text": [
      "this is my ten character, two decimal number :     10.53\n",
      "this is my ten character, two decimal number :     10.53\n"
     ]
    }
   ],
   "source": [
    "#Field widths and float precision are handled in a way similar to placeholders.\n",
    "#The following two print statements are equivalent:\n",
    "\n",
    "print('this is my ten character, two decimal number :%10.2f' %10.525)\n",
    "print('this is my ten character, two decimal number :{0:10.2f}'.format(10.525))\n",
    "\n",
    "#Note that there are 5 spaces following the colon, and 5 characters taken up by 13.58, for a total of ten characters."
   ]
  },
  {
   "cell_type": "markdown",
   "metadata": {},
   "source": [
    "# \n",
    "Formatted String Literals (f-strings)\n",
    "\n",
    "Introduced in Python 3.6, f-strings offer several benefits over the older .format() string method described above. For one, you can bring outside variables immediately into to the string rather than pass them as arguments through .format(var).\n"
   ]
  },
  {
   "cell_type": "code",
   "execution_count": 17,
   "metadata": {},
   "outputs": [
    {
     "name": "stdout",
     "output_type": "stream",
     "text": [
      "He said his name is Sandy.\n"
     ]
    }
   ],
   "source": [
    "name = 'Sandy'\n",
    "\n",
    "print(f\"He said his name is {name}.\")"
   ]
  },
  {
   "cell_type": "markdown",
   "metadata": {},
   "source": [
    "\n",
    "Float formatting follows \"result: {value:{width}.{precision}}\"\n",
    "\n",
    "Where with the .format() method you might see {value:10.4f}, with f-strings this can become {value:{10}.{6}}\n"
   ]
  },
  {
   "cell_type": "code",
   "execution_count": 20,
   "metadata": {},
   "outputs": [
    {
     "name": "stdout",
     "output_type": "stream",
     "text": [
      "My 10 character number with four decimal : 23.45678\n"
     ]
    }
   ],
   "source": [
    "num = 23.45678\n",
    "\n",
    "print(\"My 10 character number with four decimal : {}\".format(num))"
   ]
  },
  {
   "cell_type": "code",
   "execution_count": 21,
   "metadata": {},
   "outputs": [
    {
     "name": "stdout",
     "output_type": "stream",
     "text": [
      "My 10 character number with four decimal :    23.4568\n"
     ]
    }
   ],
   "source": [
    "print(\"My 10 character number with four decimal : {0:10.4f}\".format(num))"
   ]
  },
  {
   "cell_type": "code",
   "execution_count": 23,
   "metadata": {},
   "outputs": [
    {
     "name": "stdout",
     "output_type": "stream",
     "text": [
      "my 10 character number with four decimal :      23.46\n"
     ]
    }
   ],
   "source": [
    "print(f\"my 10 character number with four decimal : {num:{10}.{4}}\")"
   ]
  },
  {
   "cell_type": "code",
   "execution_count": 24,
   "metadata": {},
   "outputs": [
    {
     "name": "stdout",
     "output_type": "stream",
     "text": [
      "my 10 character number with four decimal :    23.4568\n"
     ]
    }
   ],
   "source": [
    "#Note that with f-strings, precision refers to the total number of digits, not just those following the decimal.\n",
    "#This fits more closely with scientific notation and statistical analysis. Unfortunately, f-strings do not pad to the right of the decimal,\n",
    "\n",
    "print(f\"my 10 character number with four decimal : {num:{10}.{6}}\")"
   ]
  },
  {
   "cell_type": "code",
   "execution_count": 28,
   "metadata": {},
   "outputs": [
    {
     "name": "stdout",
     "output_type": "stream",
     "text": [
      "abcde     \n"
     ]
    }
   ],
   "source": [
    "#Combining truncating and padding\n",
    "\n",
    "print('{:10.5}'.format('abcdefghijkl'))"
   ]
  },
  {
   "cell_type": "code",
   "execution_count": 29,
   "metadata": {},
   "outputs": [
    {
     "name": "stdout",
     "output_type": "stream",
     "text": [
      "abcde-----\n"
     ]
    }
   ],
   "source": [
    "print('{0:-<10.5}'.format('abcdefghijkl'))"
   ]
  },
  {
   "cell_type": "code",
   "execution_count": 30,
   "metadata": {},
   "outputs": [
    {
     "name": "stdout",
     "output_type": "stream",
     "text": [
      "..abcde...\n"
     ]
    }
   ],
   "source": [
    "print('{:.^10.5}'.format('abcdefghijkl'))"
   ]
  },
  {
   "cell_type": "code",
   "execution_count": 31,
   "metadata": {},
   "outputs": [
    {
     "name": "stdout",
     "output_type": "stream",
     "text": [
      "/////abcde\n"
     ]
    }
   ],
   "source": [
    "print('{:/>10.5}'.format('abcdefghijkl'))"
   ]
  },
  {
   "cell_type": "code",
   "execution_count": 32,
   "metadata": {},
   "outputs": [
    {
     "name": "stdout",
     "output_type": "stream",
     "text": [
      "here is my number : 101.43275\n"
     ]
    }
   ],
   "source": [
    "print('here is my number : {}'.format(101.43275))"
   ]
  },
  {
   "cell_type": "code",
   "execution_count": 39,
   "metadata": {},
   "outputs": [
    {
     "name": "stdout",
     "output_type": "stream",
     "text": [
      "here is my number : 101\n"
     ]
    }
   ],
   "source": [
    "print('here is my number : {:3d}'.format(101))"
   ]
  },
  {
   "cell_type": "code",
   "execution_count": null,
   "metadata": {},
   "outputs": [],
   "source": []
  }
 ],
 "metadata": {
  "kernelspec": {
   "display_name": "Python 3",
   "language": "python",
   "name": "python3"
  },
  "language_info": {
   "codemirror_mode": {
    "name": "ipython",
    "version": 3
   },
   "file_extension": ".py",
   "mimetype": "text/x-python",
   "name": "python",
   "nbconvert_exporter": "python",
   "pygments_lexer": "ipython3",
   "version": "3.7.4"
  }
 },
 "nbformat": 4,
 "nbformat_minor": 2
}
