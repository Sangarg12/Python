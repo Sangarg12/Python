{
 "cells": [
  {
   "cell_type": "code",
   "execution_count": 3,
   "metadata": {},
   "outputs": [],
   "source": [
    "person = {'name':'Sandy','age':25}  #dict"
   ]
  },
  {
   "cell_type": "code",
   "execution_count": 4,
   "metadata": {},
   "outputs": [
    {
     "data": {
      "text/plain": [
       "{'name': 'Sandy', 'age': 25}"
      ]
     },
     "execution_count": 4,
     "metadata": {},
     "output_type": "execute_result"
    }
   ],
   "source": [
    "person"
   ]
  },
  {
   "cell_type": "code",
   "execution_count": 6,
   "metadata": {},
   "outputs": [],
   "source": [
    "sentance = 'My name is {} and I am {} year old'.format(person['name'],person['age'])"
   ]
  },
  {
   "cell_type": "code",
   "execution_count": 7,
   "metadata": {},
   "outputs": [
    {
     "data": {
      "text/plain": [
       "'My name is Sandy and I am 25 year old'"
      ]
     },
     "execution_count": 7,
     "metadata": {},
     "output_type": "execute_result"
    }
   ],
   "source": [
    "sentance"
   ]
  },
  {
   "cell_type": "code",
   "execution_count": 9,
   "metadata": {},
   "outputs": [
    {
     "name": "stdout",
     "output_type": "stream",
     "text": [
      "My name is Sandy and I am 25 year old\n"
     ]
    }
   ],
   "source": [
    "# we can use index also to alter the position or for sequence \n",
    "\n",
    "sentance = 'My name is {0} and I am {1} year old'.format(person['name'],person['age'])\n",
    "print(sentance)"
   ]
  },
  {
   "cell_type": "code",
   "execution_count": 10,
   "metadata": {},
   "outputs": [
    {
     "name": "stdout",
     "output_type": "stream",
     "text": [
      "My name is 25 and I am Sandy year old\n"
     ]
    }
   ],
   "source": [
    "sentance = 'My name is {1} and I am {0} year old'.format(person['name'],person['age'])\n",
    "print(sentance)"
   ]
  },
  {
   "cell_type": "code",
   "execution_count": 12,
   "metadata": {},
   "outputs": [
    {
     "data": {
      "text/plain": [
       "'My name is Sandy and I am 25 year old'"
      ]
     },
     "execution_count": 12,
     "metadata": {},
     "output_type": "execute_result"
    }
   ],
   "source": [
    "# to avoid rewritting key in for each index\n",
    "\n",
    "sentance = 'My name is {0[name]} and I am {0[age]} year old'.format(person)\n",
    "sentance"
   ]
  },
  {
   "cell_type": "code",
   "execution_count": 13,
   "metadata": {},
   "outputs": [
    {
     "data": {
      "text/plain": [
       "['sandy', 25]"
      ]
     },
     "execution_count": 13,
     "metadata": {},
     "output_type": "execute_result"
    }
   ],
   "source": [
    "# We can use the list same way\n",
    "#Lets create one list for the same attribute\n",
    "\n",
    "lst = ['sandy',25]\n",
    "lst\n"
   ]
  },
  {
   "cell_type": "code",
   "execution_count": 15,
   "metadata": {},
   "outputs": [
    {
     "data": {
      "text/plain": [
       "'My name is sandy and I am 25 year old'"
      ]
     },
     "execution_count": 15,
     "metadata": {},
     "output_type": "execute_result"
    }
   ],
   "source": [
    "sentance = 'My name is {0[0]} and I am {0[1]} year old'.format(lst) \n",
    "# I've used here first indexing for formating method and 2nd for list indexing\n",
    "sentance"
   ]
  },
  {
   "cell_type": "code",
   "execution_count": 18,
   "metadata": {},
   "outputs": [
    {
     "data": {
      "text/plain": [
       "'My name is name and I am age year old'"
      ]
     },
     "execution_count": 18,
     "metadata": {},
     "output_type": "execute_result"
    }
   ],
   "source": [
    "sentance = 'My name is {0} and I am {1} year old'.format(*person) #arg\n",
    "#Here we are using arg and kwarg thing to unpack the dict\n",
    "sentance"
   ]
  },
  {
   "cell_type": "code",
   "execution_count": 20,
   "metadata": {},
   "outputs": [
    {
     "data": {
      "text/plain": [
       "'My name is Sandy and I am 25 year old'"
      ]
     },
     "execution_count": 20,
     "metadata": {},
     "output_type": "execute_result"
    }
   ],
   "source": [
    "sentance = 'My name is {name} and I am {age} year old'.format(**person) #kwarg\n",
    "#Here we are using arg and kwarg thing to unpack the dict\n",
    "sentance"
   ]
  },
  {
   "cell_type": "code",
   "execution_count": 26,
   "metadata": {},
   "outputs": [
    {
     "name": "stdout",
     "output_type": "stream",
     "text": [
      "the value is 0\n",
      "the value is 1\n",
      "the value is 2\n",
      "the value is 3\n",
      "the value is 4\n",
      "the value is 5\n",
      "the value is 6\n",
      "the value is 7\n",
      "the value is 8\n",
      "the value is 9\n"
     ]
    }
   ],
   "source": [
    "#with loop condition\n",
    "\n",
    "for i in range(0,10):\n",
    "    print('the value is {}'.format(i))"
   ]
  },
  {
   "cell_type": "code",
   "execution_count": 32,
   "metadata": {},
   "outputs": [
    {
     "name": "stdout",
     "output_type": "stream",
     "text": [
      "the value is 00\n",
      "the value is 01\n",
      "the value is 02\n",
      "the value is 03\n",
      "the value is 04\n",
      "the value is 05\n",
      "the value is 06\n",
      "the value is 07\n",
      "the value is 08\n",
      "the value is 09\n"
     ]
    }
   ],
   "source": [
    "#if we want to add padding in our numbers \n",
    "for i in range(0,10):\n",
    "    print('the value is {:02}'.format(i))"
   ]
  },
  {
   "cell_type": "code",
   "execution_count": 38,
   "metadata": {},
   "outputs": [
    {
     "name": "stdout",
     "output_type": "stream",
     "text": [
      "the value is 00.00\n",
      "the value is 01.00\n",
      "the value is 02.00\n",
      "the value is 03.00\n",
      "the value is 04.00\n",
      "the value is 05.00\n",
      "the value is 06.00\n",
      "the value is 07.00\n",
      "the value is 08.00\n",
      "the value is 09.00\n"
     ]
    }
   ],
   "source": [
    "#if we want to add decimal place upto our given limit\n",
    "\n",
    "for i in range(0,10):\n",
    "    print('the value is {:05.2f}'.format(i))    "
   ]
  },
  {
   "cell_type": "code",
   "execution_count": 41,
   "metadata": {},
   "outputs": [
    {
     "name": "stdout",
     "output_type": "stream",
     "text": [
      "2020-10-15 03:40:15\n"
     ]
    }
   ],
   "source": [
    "#date\n",
    "import datetime\n",
    "\n",
    "my_date = datetime.datetime(2020,10,15,3,40,15)\n",
    "print(my_date)"
   ]
  },
  {
   "cell_type": "markdown",
   "metadata": {},
   "source": [
    "#if we want to represent the above date in some other formate we can use the formating option\n",
    "\n",
    "Directive \tDescription \tExample \t\n",
    "%a \tWeekday, short version \tWed \t\n",
    "%A \tWeekday, full version \tWednesday \t\n",
    "%w \tWeekday as a number 0-6, 0 is Sunday \t3 \t\n",
    "%d \tDay of month 01-31 \t31 \t\n",
    "%b \tMonth name, short version \tDec \t\n",
    "%B \tMonth name, full version \tDecember \t\n",
    "%m \tMonth as a number 01-12 \t12 \t\n",
    "%y \tYear, short version, without century \t18 \t\n",
    "%Y \tYear, full version \t2018 \t\n",
    "%H \tHour 00-23 \t17 \t\n",
    "%I \tHour 00-12 \t05 \t\n",
    "%p \tAM/PM \tPM \t\n",
    "%M \tMinute 00-59 \t41 \t\n",
    "%S \tSecond 00-59 \t08 \t\n",
    "%f \tMicrosecond 000000-999999 \t548513 \t\n",
    "%z \tUTC offset \t+0100 \t\n",
    "%Z \tTimezone \tCST \t\n",
    "%j \tDay number of year 001-366 \t365 \t\n",
    "%U \tWeek number of year, Sunday as the first day of week, 00-53 \t52 \t\n",
    "%W \tWeek number of year, Monday as the first day of week, 00-53 \t52 \t\n",
    "%c \tLocal version of date and time \tMon Dec 31 17:41:00 2018 \t\n",
    "%x \tLocal version of date \t12/31/18 \t\n",
    "%X \tLocal version of time \t17:41:00 \t\n",
    "%% \tA % character \t%\n",
    "#########################################\n",
    "\n",
    "\n",
    "    %a: Returns the first three characters of the weekday, e.g. Wed.\n",
    "    %A: Returns the full name of the weekday, e.g. Wednesday.\n",
    "    %B: Returns the full name of the month, e.g. September.\n",
    "    %w: Returns the weekday as a number, from 0 to 6, with Sunday being 0.\n",
    "    %m: Returns the month as a number, from 01 to 12.\n",
    "    %p: Returns AM/PM for time.\n",
    "    %y: Returns the year in two-digit format, that is, without the century. For example, \"18\" instead of \"2018\".\n",
    "    %f: Returns microsecond from 000000 to 999999.\n",
    "    %Z: Returns the timezone.\n",
    "    %z: Returns UTC offset.\n",
    "    %j: Returns the number of the day in the year, from 001 to 366.\n",
    "    %W: Returns the week number of the year, from 00 to 53, with Monday being counted as the first day of the week.\n",
    "    %U: Returns the week number of the year, from 00 to 53, with Sunday counted as the first day of each week.\n",
    "    %c: Returns the local date and time version.\n",
    "    %x: Returns the local version of date.\n",
    "    %X: Returns the local version of time.\n"
   ]
  },
  {
   "cell_type": "code",
   "execution_count": 50,
   "metadata": {},
   "outputs": [
    {
     "data": {
      "text/plain": [
       "'October 15, 2020'"
      ]
     },
     "execution_count": 50,
     "metadata": {},
     "output_type": "execute_result"
    }
   ],
   "source": [
    "formated_date = '{:%B %d, %Y}'.format(my_date)\n",
    "formated_date"
   ]
  },
  {
   "cell_type": "code",
   "execution_count": 49,
   "metadata": {},
   "outputs": [
    {
     "ename": "IndexError",
     "evalue": "tuple index out of range",
     "output_type": "error",
     "traceback": [
      "\u001b[1;31m---------------------------------------------------------------------------\u001b[0m",
      "\u001b[1;31mIndexError\u001b[0m                                Traceback (most recent call last)",
      "\u001b[1;32m<ipython-input-49-76765c2ae7c8>\u001b[0m in \u001b[0;36m<module>\u001b[1;34m\u001b[0m\n\u001b[1;32m----> 1\u001b[1;33m \u001b[0mformated_date1\u001b[0m \u001b[1;33m=\u001b[0m \u001b[1;34m'{:%B %d %Y} fell on {:%A} and was the {:%j} of the year'\u001b[0m\u001b[1;33m.\u001b[0m\u001b[0mformat\u001b[0m\u001b[1;33m(\u001b[0m\u001b[0mmy_date\u001b[0m\u001b[1;33m)\u001b[0m\u001b[1;33m\u001b[0m\u001b[1;33m\u001b[0m\u001b[0m\n\u001b[0m\u001b[0;32m      2\u001b[0m \u001b[0mformated_date1\u001b[0m\u001b[1;33m\u001b[0m\u001b[1;33m\u001b[0m\u001b[0m\n",
      "\u001b[1;31mIndexError\u001b[0m: tuple index out of range"
     ]
    }
   ],
   "source": [
    "formated_date1 = '{:%B %d %Y} fell on {:%A} and was the {:%j} of the year'.format(my_date)\n",
    "formated_date1"
   ]
  },
  {
   "cell_type": "code",
   "execution_count": null,
   "metadata": {},
   "outputs": [],
   "source": [
    "#At the first place it will give error coz we have 3 place holder to call but .format has only one argument, \n",
    "#so it can't decide where is other 2 argument to call , so in this case we have to use indexing"
   ]
  },
  {
   "cell_type": "code",
   "execution_count": 52,
   "metadata": {},
   "outputs": [
    {
     "data": {
      "text/plain": [
       "'October 15 2020 fell on Thursday and was the 289 day of the year'"
      ]
     },
     "execution_count": 52,
     "metadata": {},
     "output_type": "execute_result"
    }
   ],
   "source": [
    "formated_date1 = '{0:%B %d %Y} fell on {0:%A} and was the {0:%j} day of the year'.format(my_date)\n",
    "formated_date1"
   ]
  },
  {
   "cell_type": "code",
   "execution_count": 54,
   "metadata": {},
   "outputs": [
    {
     "data": {
      "text/plain": [
       "'my name is YOYO GOGO'"
      ]
     },
     "execution_count": 54,
     "metadata": {},
     "output_type": "execute_result"
    }
   ],
   "source": [
    "# f string method is quite usful we want to use the method for the object e.g\n",
    "\n",
    "name = 'YOYO'\n",
    "last_name= 'GOGO'\n",
    "\n",
    "st = f'my name is {name} {last_name}'\n",
    "st"
   ]
  },
  {
   "cell_type": "code",
   "execution_count": 55,
   "metadata": {},
   "outputs": [
    {
     "data": {
      "text/plain": [
       "'my name is yoyo Gogo'"
      ]
     },
     "execution_count": 55,
     "metadata": {},
     "output_type": "execute_result"
    }
   ],
   "source": [
    "#now with method\n",
    "st = f'my name is {name.lower()} {last_name.capitalize()}'\n",
    "st"
   ]
  },
  {
   "cell_type": "code",
   "execution_count": 56,
   "metadata": {},
   "outputs": [
    {
     "data": {
      "text/plain": [
       "'2020-10-15 03:40:15'"
      ]
     },
     "execution_count": 56,
     "metadata": {},
     "output_type": "execute_result"
    }
   ],
   "source": [
    "formated_date2 = f'{my_date}'\n",
    "formated_date2"
   ]
  },
  {
   "cell_type": "code",
   "execution_count": 59,
   "metadata": {},
   "outputs": [
    {
     "data": {
      "text/plain": [
       "'October 15, 2020'"
      ]
     },
     "execution_count": 59,
     "metadata": {},
     "output_type": "execute_result"
    }
   ],
   "source": [
    "#want to change the format\n",
    "formated_date3 = f'{my_date:%B %d, %Y}'\n",
    "formated_date3"
   ]
  },
  {
   "cell_type": "code",
   "execution_count": null,
   "metadata": {},
   "outputs": [],
   "source": []
  }
 ],
 "metadata": {
  "kernelspec": {
   "display_name": "Python 3",
   "language": "python",
   "name": "python3"
  },
  "language_info": {
   "codemirror_mode": {
    "name": "ipython",
    "version": 3
   },
   "file_extension": ".py",
   "mimetype": "text/x-python",
   "name": "python",
   "nbconvert_exporter": "python",
   "pygments_lexer": "ipython3",
   "version": "3.7.4"
  }
 },
 "nbformat": 4,
 "nbformat_minor": 2
}
