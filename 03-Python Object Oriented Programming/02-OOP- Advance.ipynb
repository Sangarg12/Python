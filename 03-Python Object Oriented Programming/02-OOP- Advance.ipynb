{
 "cells": [
  {
   "cell_type": "markdown",
   "metadata": {},
   "source": [
    "# Classes and Instances"
   ]
  },
  {
   "cell_type": "code",
   "execution_count": 1,
   "metadata": {},
   "outputs": [],
   "source": [
    "class Employee:\n",
    "    \n",
    "    def __init__(self,first,last,pay):  # self is instances,rest are attributes\n",
    "        \"\"\"__init__ helps us to create the attributes of class\"\"\"\n",
    "        self.first = first   # right side is attribute, after self we can use different\n",
    "        self.last=last       # name too but we try to use same to avoid confusion\n",
    "        self.pay = pay\n",
    "        self.email = first+'.'+ last+'@company.com'"
   ]
  },
  {
   "cell_type": "code",
   "execution_count": 11,
   "metadata": {},
   "outputs": [],
   "source": [
    "# #Now we can call our attributes which we defined, but we didn't defined \n",
    "# any methods here till"
   ]
  },
  {
   "cell_type": "code",
   "execution_count": 6,
   "metadata": {},
   "outputs": [],
   "source": [
    "emp_1=Employee('sandy','abc','40000')"
   ]
  },
  {
   "cell_type": "code",
   "execution_count": 8,
   "metadata": {},
   "outputs": [
    {
     "data": {
      "text/plain": [
       "'sandy.abc@company.com'"
      ]
     },
     "execution_count": 8,
     "metadata": {},
     "output_type": "execute_result"
    }
   ],
   "source": [
    "emp_1.email"
   ]
  },
  {
   "cell_type": "code",
   "execution_count": 9,
   "metadata": {},
   "outputs": [
    {
     "data": {
      "text/plain": [
       "'sandy'"
      ]
     },
     "execution_count": 9,
     "metadata": {},
     "output_type": "execute_result"
    }
   ],
   "source": [
    "emp_1.first"
   ]
  },
  {
   "cell_type": "code",
   "execution_count": 10,
   "metadata": {},
   "outputs": [
    {
     "data": {
      "text/plain": [
       "'40000'"
      ]
     },
     "execution_count": 10,
     "metadata": {},
     "output_type": "execute_result"
    }
   ],
   "source": [
    "emp_1.pay"
   ]
  },
  {
   "cell_type": "code",
   "execution_count": 20,
   "metadata": {},
   "outputs": [],
   "source": [
    "#Now lets create method in class :\n",
    "\n",
    "class Employee:\n",
    "    \n",
    "    def __init__(self,first,last,pay):  # self is instances,rest are attributes\n",
    "        \"\"\"__init__ helps us to create the attributes of class\"\"\"\n",
    "        self.first = first# right side is argument,left is attribute , after self we can use different\n",
    "        self.last=last       # name too but we try to use same to avoid confusion\n",
    "        self.pay = pay\n",
    "        self.email = first+'.'+ last+'@company.com'\n",
    "    \n",
    "    def fullname(self):  #method always has instances as argument\n",
    "        return '{} {}'.format(self.first,self.last)"
   ]
  },
  {
   "cell_type": "code",
   "execution_count": 19,
   "metadata": {},
   "outputs": [
    {
     "name": "stdout",
     "output_type": "stream",
     "text": [
      "sandy abc\n"
     ]
    }
   ],
   "source": [
    "print(Employee('sandy','abc','40000').fullname()) # we are calling method here"
   ]
  },
  {
   "cell_type": "markdown",
   "metadata": {},
   "source": [
    "class sample():\n",
    "\n",
    "    def __init__(self,argument):\n",
    "    \n",
    "        \"\"\" argument is what we are passing into it\n",
    "            attribute is by which we call that argument to get the output\n",
    "        \"\"\"\n",
    "        \n",
    "        self.attribute = argument"
   ]
  },
  {
   "cell_type": "code",
   "execution_count": 24,
   "metadata": {
    "scrolled": true
   },
   "outputs": [
    {
     "ename": "TypeError",
     "evalue": "'str' object is not callable",
     "output_type": "error",
     "traceback": [
      "\u001b[1;31m---------------------------------------------------------------------------\u001b[0m",
      "\u001b[1;31mTypeError\u001b[0m                                 Traceback (most recent call last)",
      "\u001b[1;32m<ipython-input-24-cc9bd235ed77>\u001b[0m in \u001b[0;36m<module>\u001b[1;34m\u001b[0m\n\u001b[1;32m----> 1\u001b[1;33m \u001b[0mEmployee\u001b[0m\u001b[1;33m(\u001b[0m\u001b[1;34m'sandy'\u001b[0m\u001b[1;33m,\u001b[0m\u001b[1;34m'abc'\u001b[0m\u001b[1;33m,\u001b[0m\u001b[1;34m'40000'\u001b[0m\u001b[1;33m)\u001b[0m\u001b[1;33m.\u001b[0m\u001b[0mfirst\u001b[0m\u001b[1;33m(\u001b[0m\u001b[1;33m)\u001b[0m \u001b[1;31m# attribute is not callable remeber\u001b[0m\u001b[1;33m\u001b[0m\u001b[1;33m\u001b[0m\u001b[0m\n\u001b[0m\u001b[0;32m      2\u001b[0m \u001b[1;31m# as this is not a method so we can't add () after attribute name\u001b[0m\u001b[1;33m\u001b[0m\u001b[1;33m\u001b[0m\u001b[1;33m\u001b[0m\u001b[0m\n",
      "\u001b[1;31mTypeError\u001b[0m: 'str' object is not callable"
     ]
    }
   ],
   "source": [
    "Employee('sandy','abc','40000').first() # attribute is not callable remeber\n",
    "# as this is not a method so we can't add () after attribute name"
   ]
  },
  {
   "cell_type": "code",
   "execution_count": 25,
   "metadata": {},
   "outputs": [
    {
     "data": {
      "text/plain": [
       "'sandy'"
      ]
     },
     "execution_count": 25,
     "metadata": {},
     "output_type": "execute_result"
    }
   ],
   "source": [
    "Employee('sandy','abc','40000').first"
   ]
  },
  {
   "cell_type": "markdown",
   "metadata": {},
   "source": [
    "# Class Variable"
   ]
  },
  {
   "cell_type": "code",
   "execution_count": 31,
   "metadata": {},
   "outputs": [],
   "source": [
    "class Employee:\n",
    "    \"\"\"Class attributes\"\"\"\n",
    "    \n",
    "    num_of_emps= 0\n",
    "    raise_amount = 1.04\n",
    "    \n",
    "    def __init__(self,first,last,pay):  # self is instances,rest are attributes\n",
    "        \"\"\"__init__ helps us to create the attributes of class\"\"\"\n",
    "        self.first = first# right side is argument,left is attribute , after self we can use different\n",
    "        self.last=last       # name too but we try to use same to avoid confusion\n",
    "        self.pay = pay\n",
    "        self.email = first+'.'+ last+'@company.com'\n",
    "        \n",
    "        Employee.num_of_emps += 1\n",
    "        \n",
    "    def fullname(self):  #method always has instances as argument\n",
    "        return '{} {}'.format(self.first,self.last)\n",
    "    \n",
    "    def apply_raise(self):\n",
    "        self.pay = (float(self.pay) * self.raise_amount)"
   ]
  },
  {
   "cell_type": "code",
   "execution_count": 32,
   "metadata": {},
   "outputs": [
    {
     "data": {
      "text/plain": [
       "0"
      ]
     },
     "execution_count": 32,
     "metadata": {},
     "output_type": "execute_result"
    }
   ],
   "source": [
    "Employee.num_of_emps"
   ]
  },
  {
   "cell_type": "code",
   "execution_count": 33,
   "metadata": {},
   "outputs": [
    {
     "name": "stdout",
     "output_type": "stream",
     "text": [
      "1\n"
     ]
    }
   ],
   "source": [
    "emp_1 = Employee('sandy','abc','40000')\n",
    "print(Employee.num_of_emps)"
   ]
  },
  {
   "cell_type": "code",
   "execution_count": 34,
   "metadata": {},
   "outputs": [
    {
     "data": {
      "text/plain": [
       "'40000'"
      ]
     },
     "execution_count": 34,
     "metadata": {},
     "output_type": "execute_result"
    }
   ],
   "source": [
    "# now it is showing no. of employees 1 becuase call one instance from class only\n",
    "\n",
    "emp_1.pay"
   ]
  },
  {
   "cell_type": "code",
   "execution_count": 35,
   "metadata": {},
   "outputs": [],
   "source": [
    "emp_1.apply_raise() "
   ]
  },
  {
   "cell_type": "code",
   "execution_count": 37,
   "metadata": {},
   "outputs": [
    {
     "data": {
      "text/plain": [
       "41600.0"
      ]
     },
     "execution_count": 37,
     "metadata": {},
     "output_type": "execute_result"
    }
   ],
   "source": [
    "emp_1.pay # we have applied raise to amount of intial pay"
   ]
  },
  {
   "cell_type": "code",
   "execution_count": 38,
   "metadata": {},
   "outputs": [
    {
     "name": "stdout",
     "output_type": "stream",
     "text": [
      "2\n"
     ]
    }
   ],
   "source": [
    "#now let create one more instance for employee class\n",
    "\n",
    "emp_2 = Employee('mandy','def','50000')\n",
    "print(Employee.num_of_emps)"
   ]
  },
  {
   "cell_type": "code",
   "execution_count": 39,
   "metadata": {},
   "outputs": [
    {
     "data": {
      "text/plain": [
       "'50000'"
      ]
     },
     "execution_count": 39,
     "metadata": {},
     "output_type": "execute_result"
    }
   ],
   "source": [
    "# now you can see that it showing 2 no. of employees beacuse no there is two instances \n",
    "emp_2.pay\n"
   ]
  },
  {
   "cell_type": "code",
   "execution_count": 42,
   "metadata": {},
   "outputs": [],
   "source": [
    "emp_2.apply_raise()"
   ]
  },
  {
   "cell_type": "code",
   "execution_count": 43,
   "metadata": {},
   "outputs": [
    {
     "data": {
      "text/plain": [
       "52000.0"
      ]
     },
     "execution_count": 43,
     "metadata": {},
     "output_type": "execute_result"
    }
   ],
   "source": [
    "emp_2.pay"
   ]
  },
  {
   "cell_type": "markdown",
   "metadata": {},
   "source": [
    "# Class Method"
   ]
  },
  {
   "cell_type": "code",
   "execution_count": 85,
   "metadata": {},
   "outputs": [],
   "source": [
    "class Employee:\n",
    "    \"\"\"Class attributes\"\"\"\n",
    "    \n",
    "    num_of_emps= 0\n",
    "    raise_amount = 1.04\n",
    "    \n",
    "    def __init__(self,first,last,pay):  # self is instances,rest are attributes\n",
    "        \"\"\"__init__ helps us to create the attributes of class\"\"\"\n",
    "        self.first = first# right side is argument,left is attribute , after self we can use different\n",
    "        self.last=last       # name too but we try to use same to avoid confusion\n",
    "        self.pay = pay\n",
    "        self.email = first+'.'+ last+'@company.com'\n",
    "        \n",
    "        Employee.num_of_emps += 1\n",
    "        \n",
    "    def fullname(self):  #method always has instances as argument\n",
    "        return '{} {}'.format(self.first,self.last)\n",
    "    \n",
    "    def apply_raise(self):\n",
    "        self.pay = (float(self.pay) * self.raise_amount)\n",
    "        print(self.pay)\n",
    "    \n",
    "    @classmethod  # working as decorator here\n",
    "    def set_raise_amount(cls,amount):\n",
    "        \"\"\"Benefit of classmethod is we need to initialize instances here\"\"\"\n",
    "        cls.raise_amount = amount  # no need of using here self or employee instances to\n",
    "        # call the raise_amount becuase cls instance refer the same and have acess to the \n",
    "        #whole class"
   ]
  },
  {
   "cell_type": "code",
   "execution_count": 79,
   "metadata": {},
   "outputs": [],
   "source": [
    "emp_3 = Employee('Randy','gfi','70000')"
   ]
  },
  {
   "cell_type": "code",
   "execution_count": 80,
   "metadata": {},
   "outputs": [
    {
     "data": {
      "text/plain": [
       "'70000'"
      ]
     },
     "execution_count": 80,
     "metadata": {},
     "output_type": "execute_result"
    }
   ],
   "source": [
    "emp_3.pay"
   ]
  },
  {
   "cell_type": "code",
   "execution_count": 81,
   "metadata": {},
   "outputs": [
    {
     "name": "stdout",
     "output_type": "stream",
     "text": [
      "72800.0\n"
     ]
    }
   ],
   "source": [
    "#if i call apply_raise method it will apply the raise amount which default one in class\n",
    "\n",
    "emp_3.apply_raise() # which is 4% of pay amount"
   ]
  },
  {
   "cell_type": "code",
   "execution_count": 82,
   "metadata": {},
   "outputs": [],
   "source": [
    "#But now we we want to change the raise amount and don't want to do manually\n",
    "#for each instance which we create for each emplyee here one by one\n",
    "\n",
    "emp_3.set_raise_amount(1.5) # now we are setting the raise_amount to 5%"
   ]
  },
  {
   "cell_type": "code",
   "execution_count": 83,
   "metadata": {},
   "outputs": [
    {
     "name": "stdout",
     "output_type": "stream",
     "text": [
      "109200.0\n"
     ]
    }
   ],
   "source": [
    "emp_3.apply_raise() # here we applied 5% raise to pay"
   ]
  },
  {
   "cell_type": "markdown",
   "metadata": {},
   "source": [
    "Lets take one use case here where we have employee information in the form of string with - separater e.g\n",
    "\n",
    "     emp_str_1 = 'Jhon-lay-3000'\n",
    "     emp_str_2 = 'Khon-May-4000'\n",
    "     emp_str_3 = 'Mhon-Nay-5000'\n",
    "     \n",
    "then we can create each different instance with these info.lets create one class method for this"
   ]
  },
  {
   "cell_type": "code",
   "execution_count": 99,
   "metadata": {},
   "outputs": [],
   "source": [
    "class Employee:\n",
    "    \"\"\"Class attributes\"\"\"\n",
    "    \n",
    "    num_of_emps= 0\n",
    "    raise_amount = 1.04\n",
    "    \n",
    "    def __init__(self,first,last,pay):  # self is instances,rest are attributes\n",
    "        \"\"\"__init__ helps us to create the attributes of class\"\"\"\n",
    "        self.first = first# right side is argument,left is attribute , after self we can use different\n",
    "        self.last=last       # name too but we try to use same to avoid confusion\n",
    "        self.pay = pay\n",
    "        self.email = first+'.'+ last+'@company.com'\n",
    "        \n",
    "        Employee.num_of_emps += 1\n",
    "        \n",
    "    \n",
    "    @classmethod  # working as decorator here\n",
    "    def emp_str_change(cls,string):\n",
    "        first,last,pay = string.split('-')\n",
    "        return Employee(first,last,pay)"
   ]
  },
  {
   "cell_type": "code",
   "execution_count": 100,
   "metadata": {},
   "outputs": [],
   "source": [
    " emp_str_1 = 'Jhon-lay-3000'\n",
    " emp_str_2 = 'Khon-May-4000'\n",
    " emp_str_3 = 'Mhon-Nay-5000'"
   ]
  },
  {
   "cell_type": "code",
   "execution_count": 105,
   "metadata": {},
   "outputs": [],
   "source": [
    "new_emp_1= Employee.emp_str_change(emp_str_1) # creating instances "
   ]
  },
  {
   "cell_type": "code",
   "execution_count": 106,
   "metadata": {},
   "outputs": [
    {
     "data": {
      "text/plain": [
       "'Jhon'"
      ]
     },
     "execution_count": 106,
     "metadata": {},
     "output_type": "execute_result"
    }
   ],
   "source": [
    "new_emp_1.first  # calling attributes"
   ]
  },
  {
   "cell_type": "code",
   "execution_count": 107,
   "metadata": {},
   "outputs": [
    {
     "data": {
      "text/plain": [
       "3"
      ]
     },
     "execution_count": 107,
     "metadata": {},
     "output_type": "execute_result"
    }
   ],
   "source": [
    "new_emp_1.num_of_emps"
   ]
  },
  {
   "cell_type": "code",
   "execution_count": 108,
   "metadata": {},
   "outputs": [
    {
     "data": {
      "text/plain": [
       "'lay'"
      ]
     },
     "execution_count": 108,
     "metadata": {},
     "output_type": "execute_result"
    }
   ],
   "source": [
    "new_emp_1.last"
   ]
  },
  {
   "cell_type": "code",
   "execution_count": 109,
   "metadata": {},
   "outputs": [],
   "source": [
    "# Here we use class method as alternative constructor "
   ]
  },
  {
   "cell_type": "code",
   "execution_count": 110,
   "metadata": {},
   "outputs": [
    {
     "data": {
      "text/plain": [
       "<function __main__.Employee.__init__(self, first, last, pay)>"
      ]
     },
     "execution_count": 110,
     "metadata": {},
     "output_type": "execute_result"
    }
   ],
   "source": [
    "Employee.__init__ "
   ]
  },
  {
   "cell_type": "code",
   "execution_count": 113,
   "metadata": {},
   "outputs": [
    {
     "data": {
      "text/plain": [
       "{'first': 'Jhon',\n",
       " 'last': 'lay',\n",
       " 'pay': '3000',\n",
       " 'email': 'Jhon.lay@company.com'}"
      ]
     },
     "execution_count": 113,
     "metadata": {},
     "output_type": "execute_result"
    }
   ],
   "source": [
    "new_emp_1.__dict__  # we checking dictonary of new emp"
   ]
  },
  {
   "cell_type": "code",
   "execution_count": 118,
   "metadata": {},
   "outputs": [
    {
     "data": {
      "text/plain": [
       "'Class attributes'"
      ]
     },
     "execution_count": 118,
     "metadata": {},
     "output_type": "execute_result"
    }
   ],
   "source": [
    "Employee.__doc__"
   ]
  },
  {
   "cell_type": "code",
   "execution_count": 119,
   "metadata": {},
   "outputs": [
    {
     "data": {
      "text/plain": [
       "mappingproxy({'__module__': '__main__',\n",
       "              '__doc__': 'Class attributes',\n",
       "              'num_of_emps': 3,\n",
       "              'raise_amount': 1.04,\n",
       "              '__init__': <function __main__.Employee.__init__(self, first, last, pay)>,\n",
       "              'emp_str_change': <classmethod at 0x2991c392948>,\n",
       "              '__dict__': <attribute '__dict__' of 'Employee' objects>,\n",
       "              '__weakref__': <attribute '__weakref__' of 'Employee' objects>})"
      ]
     },
     "execution_count": 119,
     "metadata": {},
     "output_type": "execute_result"
    }
   ],
   "source": [
    "Employee.__dict__"
   ]
  },
  {
   "cell_type": "markdown",
   "metadata": {},
   "source": [
    "# Inheritance: \n",
    "                    which helped us to use the functionality of foreign class into called class"
   ]
  },
  {
   "cell_type": "code",
   "execution_count": 121,
   "metadata": {},
   "outputs": [],
   "source": [
    "#e.g\n",
    "# parent class \n",
    "class Employee:\n",
    "    \"\"\"Class attributes\"\"\"\n",
    "    \n",
    "    num_of_emps= 0\n",
    "    raise_amount = 1.04\n",
    "    \n",
    "    def __init__(self,first,last,pay):  # self is instances,rest are attributes\n",
    "        \"\"\"__init__ helps us to create the attributes of class\"\"\"\n",
    "        self.first = first# right side is argument,left is attribute , after self we can use different\n",
    "        self.last=last       # name too but we try to use same to avoid confusion\n",
    "        self.pay = pay\n",
    "        self.email = first+'.'+ last+'@company.com'\n",
    "        \n",
    "        Employee.num_of_emps += 1\n",
    "        \n",
    "    def fullname(self):  #method always has instances as argument\n",
    "        return '{} {}'.format(self.first,self.last)\n",
    "    \n",
    "    def apply_raise(self):\n",
    "        self.pay = (float(self.pay) * self.raise_amount)\n",
    "        print(self.pay)\n",
    "    "
   ]
  },
  {
   "cell_type": "code",
   "execution_count": 122,
   "metadata": {},
   "outputs": [],
   "source": [
    "#Now suppose we have Developers in employees and to developers we want to give different\n",
    "#raise then other employees\n",
    "\n",
    "#lets create Developer class\n",
    "\n",
    "class Developer(Employee): #inhertitinig the employee class here\n",
    "    \n",
    "    raise_amount = 1.10 # 10%"
   ]
  },
  {
   "cell_type": "code",
   "execution_count": 123,
   "metadata": {},
   "outputs": [],
   "source": [
    "Dev_1 = Developer('A','a','80000')"
   ]
  },
  {
   "cell_type": "code",
   "execution_count": 124,
   "metadata": {},
   "outputs": [
    {
     "name": "stdout",
     "output_type": "stream",
     "text": [
      "88000.0\n"
     ]
    }
   ],
   "source": [
    "Dev_1.apply_raise()  "
   ]
  },
  {
   "cell_type": "code",
   "execution_count": 125,
   "metadata": {},
   "outputs": [],
   "source": [
    "# now we can see the raise amount is applied 10% instead of 4% which was for employees\n",
    "\n",
    "#so here we used all the functionality of Employee class but added some other use cases in \n",
    "#different class"
   ]
  },
  {
   "cell_type": "code",
   "execution_count": 142,
   "metadata": {},
   "outputs": [],
   "source": [
    "#Now suppose we can to add programming language for developer also, then we have to create \n",
    "#instance for that but not all lets see how\n",
    "\n",
    "class Developer(Employee): #inhertitinig the employee class here\n",
    "    \n",
    "    raise_amount = 1.10 # 10%\n",
    "    def __init__(self,first,last,pay,lang):\n",
    "        \n",
    "        Employee.__init__(self,first,last,pay) # here we are saying use first attributes \n",
    "        #instance from Employee class and rest we define for Developer class which we \n",
    "        #required\n",
    "        self.lang= lang\n"
   ]
  },
  {
   "cell_type": "code",
   "execution_count": 138,
   "metadata": {},
   "outputs": [],
   "source": [
    "Dev_2 = Developer('B','b',75000,'python')"
   ]
  },
  {
   "cell_type": "code",
   "execution_count": 139,
   "metadata": {},
   "outputs": [
    {
     "data": {
      "text/plain": [
       "'B.b@company.com'"
      ]
     },
     "execution_count": 139,
     "metadata": {},
     "output_type": "execute_result"
    }
   ],
   "source": [
    "Dev_2.email  # you can see that without creating other instane still we able to parse those"
   ]
  },
  {
   "cell_type": "code",
   "execution_count": 140,
   "metadata": {},
   "outputs": [
    {
     "data": {
      "text/plain": [
       "'B'"
      ]
     },
     "execution_count": 140,
     "metadata": {},
     "output_type": "execute_result"
    }
   ],
   "source": [
    "Dev_2.first"
   ]
  },
  {
   "cell_type": "code",
   "execution_count": 141,
   "metadata": {},
   "outputs": [
    {
     "data": {
      "text/plain": [
       "'python'"
      ]
     },
     "execution_count": 141,
     "metadata": {},
     "output_type": "execute_result"
    }
   ],
   "source": [
    "Dev_2.lang"
   ]
  },
  {
   "cell_type": "code",
   "execution_count": null,
   "metadata": {},
   "outputs": [],
   "source": []
  }
 ],
 "metadata": {
  "kernelspec": {
   "display_name": "Python 3",
   "language": "python",
   "name": "python3"
  },
  "language_info": {
   "codemirror_mode": {
    "name": "ipython",
    "version": 3
   },
   "file_extension": ".py",
   "mimetype": "text/x-python",
   "name": "python",
   "nbconvert_exporter": "python",
   "pygments_lexer": "ipython3",
   "version": "3.7.4"
  }
 },
 "nbformat": 4,
 "nbformat_minor": 2
}
