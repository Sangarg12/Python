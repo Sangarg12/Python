{
 "cells": [
  {
   "cell_type": "markdown",
   "metadata": {},
   "source": [
    "\n",
    "while Loops\n",
    "\n",
    "The while statement in Python is one of most general ways to perform iteration. A while statement will repeatedly execute a single statement or group of statements as long as the condition is true. The reason it is called a 'loop' is because the code statements are looped through over and over again until the condition is no longer met.\n",
    "\n",
    "The general format of a while loop is:\n",
    "\n",
    "while test:\n",
    "    code statements\n",
    "else:\n",
    "    final code statements\n",
    "\n",
    "Let’s look at a few simple while loops in action.\n"
   ]
  },
  {
   "cell_type": "code",
   "execution_count": 1,
   "metadata": {},
   "outputs": [
    {
     "name": "stdout",
     "output_type": "stream",
     "text": [
      "value of x: 0\n",
      "x still less than 10, adding 1 to x\n",
      "value of x: 1\n",
      "x still less than 10, adding 1 to x\n",
      "value of x: 2\n",
      "x still less than 10, adding 1 to x\n",
      "value of x: 3\n",
      "x still less than 10, adding 1 to x\n",
      "value of x: 4\n",
      "x still less than 10, adding 1 to x\n",
      "value of x: 5\n",
      "x still less than 10, adding 1 to x\n",
      "value of x: 6\n",
      "x still less than 10, adding 1 to x\n",
      "value of x: 7\n",
      "x still less than 10, adding 1 to x\n",
      "value of x: 8\n",
      "x still less than 10, adding 1 to x\n",
      "value of x: 9\n",
      "x still less than 10, adding 1 to x\n"
     ]
    }
   ],
   "source": [
    "x= 0\n",
    "\n",
    "while x<10 :\n",
    "    print('value of x:',x)\n",
    "    print('x still less than 10, adding 1 to x')\n",
    "    x+=1\n",
    "    "
   ]
  },
  {
   "cell_type": "markdown",
   "metadata": {},
   "source": [
    "Notice how many times the print statements occurred and how the while loop kept going until the True condition was met, which occurred once x==10. It's important to note that once this occurred the code stopped. Let's see how we could add an else statement:"
   ]
  },
  {
   "cell_type": "code",
   "execution_count": 4,
   "metadata": {},
   "outputs": [
    {
     "name": "stdout",
     "output_type": "stream",
     "text": [
      "value of x: 0\n",
      "x still less than 10, adding 1 to x\n",
      "value of x: 1\n",
      "x still less than 10, adding 1 to x\n",
      "value of x: 2\n",
      "x still less than 10, adding 1 to x\n",
      "value of x: 3\n",
      "x still less than 10, adding 1 to x\n",
      "value of x: 4\n",
      "x still less than 10, adding 1 to x\n",
      "value of x: 5\n",
      "x still less than 10, adding 1 to x\n",
      "value of x: 6\n",
      "x still less than 10, adding 1 to x\n",
      "value of x: 7\n",
      "x still less than 10, adding 1 to x\n",
      "value of x: 8\n",
      "x still less than 10, adding 1 to x\n",
      "value of x: 9\n",
      "x still less than 10, adding 1 to x\n",
      "Now x is equal to 10,no need of adding 1\n"
     ]
    }
   ],
   "source": [
    "x= 0\n",
    "\n",
    "while x<10 :\n",
    "    print('value of x:',x)\n",
    "    print('x still less than 10, adding 1 to x')\n",
    "    x+=1\n",
    "else:\n",
    "    print('Now x is equal to 10,no need of adding 1')"
   ]
  },
  {
   "cell_type": "markdown",
   "metadata": {},
   "source": [
    "#break, continue, pass\n",
    "\n",
    "We can use break, continue, and pass statements in our loops to add additional functionality for various cases. The three statements are defined by:\n",
    "\n",
    "break: Breaks out of the current closest enclosing loop.\n",
    "continue: Goes to the top of the closest enclosing loop.\n",
    "pass: Does nothing at all.\n",
    "\n",
    "\n",
    "Thinking about break and continue statements, the general format of the while loop looks like this:\n",
    "\n",
    "while test: \n",
    "    code statement\n",
    "    if test: \n",
    "        break\n",
    "    if test: \n",
    "        continue \n",
    "else:\n",
    "\n",
    "break and continue statements can appear anywhere inside the loop’s body, but we will usually put them further nested in conjunction with an if statement to perform an action based on some condition.\n",
    "\n",
    "Let's go ahead and look at some examples!\n"
   ]
  },
  {
   "cell_type": "code",
   "execution_count": 1,
   "metadata": {},
   "outputs": [
    {
     "name": "stdout",
     "output_type": "stream",
     "text": [
      "value of x: 0\n",
      "value of x: 1\n",
      "value of x: 2\n",
      "value of x: 3\n",
      "value of x: 4\n",
      "value of x: 5\n",
      "value of x: 6\n",
      "value of x: 7\n",
      "value of x: 8\n",
      "value of x: 9\n"
     ]
    }
   ],
   "source": [
    "x= 0\n",
    "\n",
    "while x<10 :\n",
    "    print('value of x:',x)\n",
    "    x+=1"
   ]
  },
  {
   "cell_type": "code",
   "execution_count": 3,
   "metadata": {},
   "outputs": [
    {
     "name": "stdout",
     "output_type": "stream",
     "text": [
      "value of x: 0\n"
     ]
    }
   ],
   "source": [
    "#lets use break statement\n",
    "x = 0\n",
    "\n",
    "while x<10:\n",
    "    print('value of x:',x)\n",
    "    break\n",
    "    x+=1"
   ]
  },
  {
   "cell_type": "markdown",
   "metadata": {},
   "source": [
    "After printing only first value loop breaks"
   ]
  },
  {
   "cell_type": "code",
   "execution_count": 1,
   "metadata": {},
   "outputs": [
    {
     "name": "stdout",
     "output_type": "stream",
     "text": [
      "value of x: 0\n",
      "value of x: 1\n",
      "value of x: 2\n",
      "value of x: 3\n",
      "value of x: 4\n",
      "value of x: 5\n",
      "value of x: 6\n",
      "value of x: 7\n",
      "value of x: 8\n",
      "value of x: 9\n"
     ]
    }
   ],
   "source": [
    "#continue statement\n",
    "x = 0\n",
    "\n",
    "while x<10:\n",
    "    print('value of x:',x)\n",
    "    x+=1\n",
    "    continue"
   ]
  },
  {
   "cell_type": "code",
   "execution_count": 4,
   "metadata": {},
   "outputs": [],
   "source": [
    "x = 0\n",
    "\n",
    "while x<10:\n",
    "    if x==2:\n",
    "        print('value of x:',x)\n",
    "    x+=1\n",
    "    break\n",
    "    "
   ]
  },
  {
   "cell_type": "markdown",
   "metadata": {},
   "source": [
    "it doesn't print because loop is breaked after 1st increament only and x not reached to value 2"
   ]
  },
  {
   "cell_type": "code",
   "execution_count": 8,
   "metadata": {},
   "outputs": [
    {
     "ename": "SyntaxError",
     "evalue": "unexpected EOF while parsing (<ipython-input-8-ea3bc80660a5>, line 6)",
     "output_type": "error",
     "traceback": [
      "\u001b[1;36m  File \u001b[1;32m\"<ipython-input-8-ea3bc80660a5>\"\u001b[1;36m, line \u001b[1;32m6\u001b[0m\n\u001b[1;33m    \u001b[0m\n\u001b[1;37m    ^\u001b[0m\n\u001b[1;31mSyntaxError\u001b[0m\u001b[1;31m:\u001b[0m unexpected EOF while parsing\n"
     ]
    }
   ],
   "source": [
    "#pass statement used to avoid error\n",
    "#lest see\n",
    "\n",
    "while True:\n",
    "    #something should be here\n",
    "    "
   ]
  },
  {
   "cell_type": "markdown",
   "metadata": {},
   "source": [
    "As you can see error shows unexpexted error because there should be something after loop stament of while"
   ]
  },
  {
   "cell_type": "code",
   "execution_count": null,
   "metadata": {},
   "outputs": [],
   "source": [
    "#now lets see how we can avoid error\n",
    "#We may use the command very seldom so don't think too much that you are going to use this very often\n",
    "\n",
    "while True:\n",
    "    #something should be here\n",
    "    pass"
   ]
  },
  {
   "cell_type": "code",
   "execution_count": null,
   "metadata": {},
   "outputs": [],
   "source": [
    "#pass means do nothing "
   ]
  },
  {
   "cell_type": "code",
   "execution_count": null,
   "metadata": {},
   "outputs": [],
   "source": [
    "#I hope you able to get the while loop"
   ]
  }
 ],
 "metadata": {
  "kernelspec": {
   "display_name": "Python 3",
   "language": "python",
   "name": "python3"
  },
  "language_info": {
   "codemirror_mode": {
    "name": "ipython",
    "version": 3
   },
   "file_extension": ".py",
   "mimetype": "text/x-python",
   "name": "python",
   "nbconvert_exporter": "python",
   "pygments_lexer": "ipython3",
   "version": "3.7.4"
  }
 },
 "nbformat": 4,
 "nbformat_minor": 2
}
