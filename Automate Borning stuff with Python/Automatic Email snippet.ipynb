{
 "cells": [
  {
   "cell_type": "code",
   "execution_count": null,
   "metadata": {},
   "outputs": [],
   "source": [
    "import smtplib  # libraray\n",
    "smtpObj = smtplib.SMTP_SSL('smtp.gmail.com',465) # to connect with server\n",
    "smtpObj.ehlo() # send the extended hello to our server\n",
    "#smtpObj.starttls()  # tell server we want to communicate with TLS encryption\n",
    "#smtpObj.ehlo()\n",
    "smtpObj.login('Your email address', 'You password') # to login on account\n",
    "#Note: sometime general password don't work of gmail due to security issue so in this case\n",
    "#we have to create app password from https://myaccount.google.com/apppasswords our account\n",
    "\n",
    "smtpObj.sendmail('from email','to email', 'subject ///n body') # to send email\n",
    "\n",
    "smtpObj.quit()\n",
    "print(\"email successfully sent\")"
   ]
  }
 ],
 "metadata": {
  "kernelspec": {
   "display_name": "Python 3",
   "language": "python",
   "name": "python3"
  },
  "language_info": {
   "codemirror_mode": {
    "name": "ipython",
    "version": 3
   },
   "file_extension": ".py",
   "mimetype": "text/x-python",
   "name": "python",
   "nbconvert_exporter": "python",
   "pygments_lexer": "ipython3",
   "version": "3.7.4"
  }
 },
 "nbformat": 4,
 "nbformat_minor": 2
}
